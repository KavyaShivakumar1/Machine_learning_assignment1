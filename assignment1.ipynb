{
 "cells": [
  {
   "cell_type": "code",
   "execution_count": 1,
   "metadata": {},
   "outputs": [
    {
     "name": "stdout",
     "output_type": "stream",
     "text": [
      "Hi, notebook Jupyter is installed. This is my print statement\n"
     ]
    }
   ],
   "source": [
    "\"\"\"TASK 1\n",
    "1.  Install Jupyter notebook and run the first program and share the screenshot of the output\"\"\"\n",
    "print(\"Hi, notebook Jupyter is installed. This is my print statement\") "
   ]
  },
  {
   "cell_type": "code",
   "execution_count": 2,
   "metadata": {},
   "outputs": [
    {
     "name": "stdout",
     "output_type": "stream",
     "text": [
      "[2002, 2009, 2016, 2023, 2037, 2044, 2051, 2058, 2072, 2079, 2086, 2093, 2107, 2114, 2121, 2128, 2142, 2149, 2156, 2163, 2177, 2184, 2191, 2198, 2212, 2219, 2226, 2233, 2247, 2254, 2261, 2268, 2282, 2289, 2296, 2303, 2317, 2324, 2331, 2338, 2352, 2359, 2366, 2373, 2387, 2394, 2401, 2408, 2422, 2429, 2436, 2443, 2457, 2464, 2471, 2478, 2492, 2499, 2506, 2513, 2527, 2534, 2541, 2548, 2562, 2569, 2576, 2583, 2597, 2604, 2611, 2618, 2632, 2639, 2646, 2653, 2667, 2674, 2681, 2688, 2702, 2709, 2716, 2723, 2737, 2744, 2751, 2758, 2772, 2779, 2786, 2793, 2807, 2814, 2821, 2828, 2842, 2849, 2856, 2863, 2877, 2884, 2891, 2898, 2912, 2919, 2926, 2933, 2947, 2954, 2961, 2968, 2982, 2989, 2996, 3003, 3017, 3024, 3031, 3038, 3052, 3059, 3066, 3073, 3087, 3094, 3101, 3108, 3122, 3129, 3136, 3143, 3157, 3164, 3171, 3178, 3192, 3199]\n"
     ]
    }
   ],
   "source": [
    "\"\"\"2.  Write a program which will find all such numbers which are divisible by 7 but are not a multiple of 5, \n",
    "between 2000 and 3200 (both included). The numbers obtained should be printed in a comma-separated sequence on \n",
    "a single line. \"\"\"\n",
    "\n",
    "val1=2000\n",
    "val2=3200\n",
    "\n",
    "list=[]\n",
    "for i in range(val1, val2+1):\n",
    "    if (i%7==0) and (i%5!=0):\n",
    "        list.append(i)\n",
    "        \n",
    "print(list)"
   ]
  },
  {
   "cell_type": "code",
   "execution_count": 4,
   "metadata": {},
   "outputs": [
    {
     "name": "stdout",
     "output_type": "stream",
     "text": [
      "Enter your first name: kavya\n",
      "Enter your last name: shivakumar\n",
      "Reverse of first and last name:  ayvak ramukavihs\n"
     ]
    }
   ],
   "source": [
    "\"\"\"3. Write a Python program to accept the user's first and last name and then getting them printed in\n",
    "the the reverse order with a space between first name and last name.\"\"\"\n",
    "\n",
    "first_name= input(\"Enter your first name: \")\n",
    "last_name= input(\"Enter your last name: \")\n",
    "\n",
    "if True:\n",
    "    if first_name and last_name:\n",
    "        print (\"Reverse of first and last name: \",first_name[::-1]+ \" \"+last_name[::-1])\n",
    "    else:\n",
    "        print(\"Data is not entered\")\n",
    "    "
   ]
  },
  {
   "cell_type": "code",
   "execution_count": 5,
   "metadata": {},
   "outputs": [
    {
     "name": "stdout",
     "output_type": "stream",
     "text": [
      "volume of phere is 678.5840131753953\n"
     ]
    }
   ],
   "source": [
    "\"\"\"4.Write a Python program to find the volume of a sphere with diameter 12 cm. \n",
    "Formula: V=4/3 * π * r 3 \"\"\"\n",
    "\n",
    "# v=pi*(d/2)3 \n",
    "\n",
    "pi=3.1415926535897931\n",
    "r=(12/2)**3 \n",
    "output= pi*r\n",
    "print (\"volume of phere is\",output)\n",
    "\n"
   ]
  },
  {
   "cell_type": "code",
   "execution_count": 6,
   "metadata": {},
   "outputs": [
    {
     "name": "stdout",
     "output_type": "stream",
     "text": [
      "Enter sequence of comma seperated values: \n",
      "val ['']\n"
     ]
    },
    {
     "ename": "ValueError",
     "evalue": "invalid literal for int() with base 10: ''",
     "output_type": "error",
     "traceback": [
      "\u001b[1;31m---------------------------------------------------------------------------\u001b[0m",
      "\u001b[1;31mValueError\u001b[0m                                Traceback (most recent call last)",
      "\u001b[1;32m<ipython-input-6-14c6134e0b6f>\u001b[0m in \u001b[0;36m<module>\u001b[1;34m\u001b[0m\n\u001b[0;32m     10\u001b[0m \u001b[0mlist\u001b[0m\u001b[1;33m=\u001b[0m\u001b[1;33m[\u001b[0m\u001b[1;33m]\u001b[0m\u001b[1;33m\u001b[0m\u001b[1;33m\u001b[0m\u001b[0m\n\u001b[0;32m     11\u001b[0m \u001b[1;32mfor\u001b[0m \u001b[0mi\u001b[0m \u001b[1;32min\u001b[0m \u001b[0mval\u001b[0m\u001b[1;33m:\u001b[0m\u001b[1;33m\u001b[0m\u001b[1;33m\u001b[0m\u001b[0m\n\u001b[1;32m---> 12\u001b[1;33m     \u001b[0mlist\u001b[0m\u001b[1;33m.\u001b[0m\u001b[0mappend\u001b[0m\u001b[1;33m(\u001b[0m\u001b[0mint\u001b[0m\u001b[1;33m(\u001b[0m\u001b[0mi\u001b[0m\u001b[1;33m)\u001b[0m\u001b[1;33m)\u001b[0m\u001b[1;33m\u001b[0m\u001b[1;33m\u001b[0m\u001b[0m\n\u001b[0m\u001b[0;32m     13\u001b[0m \u001b[0mprint\u001b[0m\u001b[1;33m(\u001b[0m\u001b[1;34m\"comma-separated numbers to list\"\u001b[0m\u001b[1;33m,\u001b[0m\u001b[0mlist\u001b[0m\u001b[1;33m)\u001b[0m\u001b[1;33m\u001b[0m\u001b[1;33m\u001b[0m\u001b[0m\n\u001b[0;32m     14\u001b[0m \u001b[1;33m\u001b[0m\u001b[0m\n",
      "\u001b[1;31mValueError\u001b[0m: invalid literal for int() with base 10: ''"
     ]
    }
   ],
   "source": [
    "\"\"\"TASK 2\n",
    "\n",
    "1.  Write a program which accepts a sequence of comma-separated numbers from console and generate a list. \n",
    " \n",
    " \"\"\"\n",
    "\n",
    "val =input(\"Enter sequence of comma seperated values: \")\n",
    "print(\"val\",val.split(','))\n",
    "val=val.split(',')\n",
    "list=[]\n",
    "for i in val:\n",
    "    list.append(int(i))\n",
    "print(\"comma-separated numbers to list\",list)\n",
    "\n",
    "\n",
    "      "
   ]
  },
  {
   "cell_type": "code",
   "execution_count": 7,
   "metadata": {},
   "outputs": [
    {
     "name": "stdout",
     "output_type": "stream",
     "text": [
      "*\n",
      "**\n",
      "***\n",
      "****\n",
      "*****\n",
      "****\n",
      "***\n",
      "**\n",
      "*\n",
      "\n"
     ]
    }
   ],
   "source": [
    "\"\"\"2.  Create the below pattern using nested for loop in Python. \n",
    " \n",
    " *  \n",
    " * *  \n",
    " * * *  \n",
    " * * * *  \n",
    " * * * * *  \n",
    " * * * *  \n",
    " * * *  \n",
    " * * \n",
    " * \"\"\"\n",
    "a=5\n",
    "temp=a-1\n",
    "for i in range(1,a+1):\n",
    "    for j in range(i):\n",
    "        print(\"*\", end='')\n",
    "        if j==temp:\n",
    "            print()\n",
    "            for val in range(j,0,-1):\n",
    "                for val1 in range(val):\n",
    "                    print(\"*\", end='')\n",
    "                print()\n",
    "               \n",
    "               \n",
    "    print()"
   ]
  },
  {
   "cell_type": "code",
   "execution_count": 9,
   "metadata": {},
   "outputs": [
    {
     "name": "stdout",
     "output_type": "stream",
     "text": [
      "Enter a string to reverse: AcadGild\n",
      "Inverted string value:  dliGdacA\n"
     ]
    }
   ],
   "source": [
    "\"\"\"3.  \n",
    " \n",
    "Write a Python program to reverse a word after accepting the input from the user. \n",
    " \n",
    "Sample Output: \n",
    " \n",
    "Input word: AcadGild \n",
    " \n",
    "Output: dilGdacA \"\"\"\n",
    "\n",
    "temp=\"\"\n",
    "\n",
    "user_input=input(\"Enter a string to reverse: \")\n",
    "for i in range(len(user_input)-1, -1,-1):\n",
    "    temp=temp+user_input[i]\n",
    "\n",
    "print(\"Inverted string value: \",temp)\n"
   ]
  },
  {
   "cell_type": "code",
   "execution_count": 10,
   "metadata": {},
   "outputs": [
    {
     "name": "stdout",
     "output_type": "stream",
     "text": [
      "WE, THE PEOPLE OF INDIA,\n",
      "\thaving solemnly resolved to constitute India into a SOVEREIGN, !\n",
      "\t\tSOCIALIST, SECULAR, DEMOCRATIC REPUBLIC\n",
      "\t\tand to secure to all its citizens\n"
     ]
    }
   ],
   "source": [
    "\"\"\"4.  \n",
    " Write a Python Program to print the given string in the format specified in the ​sample output. \n",
    " WE, THE PEOPLE OF INDIA, having solemnly resolved to constitute India into a SOVEREIGN, SOCIALIST, SECULAR, DEMOCRATIC REPUBLIC and to secure to all its citizens \n",
    " \n",
    "Sample Output: \n",
    " \n",
    "WE, THE PEOPLE OF INDIA,   \n",
    "    having solemnly resolved to constitute India into a SOVEREIGN, !  \n",
    "        SOCIALIST, SECULAR, DEMOCRATIC REPUBLIC    \n",
    "        and to secure to all its citizens \"\"\"\n",
    "\n",
    "print(\"WE, THE PEOPLE OF INDIA,\\n\\thaving solemnly resolved to constitute India into a SOVEREIGN, !\\n\\t\\tSOCIALIST, SECULAR, DEMOCRATIC REPUBLIC\\n\\t\\tand to secure to all its citizens\")"
   ]
  },
  {
   "cell_type": "code",
   "execution_count": null,
   "metadata": {},
   "outputs": [],
   "source": []
  }
 ],
 "metadata": {
  "kernelspec": {
   "display_name": "Python 3",
   "language": "python",
   "name": "python3"
  },
  "language_info": {
   "codemirror_mode": {
    "name": "ipython",
    "version": 3
   },
   "file_extension": ".py",
   "mimetype": "text/x-python",
   "name": "python",
   "nbconvert_exporter": "python",
   "pygments_lexer": "ipython3",
   "version": "3.7.6"
  }
 },
 "nbformat": 4,
 "nbformat_minor": 4
}
