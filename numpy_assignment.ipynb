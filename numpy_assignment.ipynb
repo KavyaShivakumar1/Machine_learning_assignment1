{
 "cells": [
  {
   "cell_type": "code",
   "execution_count": 2,
   "metadata": {},
   "outputs": [],
   "source": [
    "import numpy as np"
   ]
  },
  {
   "cell_type": "code",
   "execution_count": 7,
   "metadata": {},
   "outputs": [
    {
     "data": {
      "text/plain": [
       "'1: \\nWrite a function so that the columns of the output matrix are powers of the input vector. \\n\\nThe order of the powers is determined by the increasing boolean argument. Specifically, \\nwhen increasing is False, the i-th output column is the input vector raised element-wise to the power of N - i - 1. \\nHINT: Such a matrix with a geometric progression in each row is named for Alexandre- Theophile Vandermonde.\\n'"
      ]
     },
     "execution_count": 7,
     "metadata": {},
     "output_type": "execute_result"
    }
   ],
   "source": [
    "\"\"\"1: \n",
    "Write a function so that the columns of the output matrix are powers of the input vector. \n",
    "\n",
    "The order of the powers is determined by the increasing boolean argument. Specifically, \n",
    "when increasing is False, the i-th output column is the input vector raised element-wise to the power of N - i - 1. \n",
    "HINT: Such a matrix with a geometric progression in each row is named for Alexandre- Theophile Vandermonde.\n",
    "\"\"\""
   ]
  },
  {
   "cell_type": "code",
   "execution_count": 8,
   "metadata": {},
   "outputs": [
    {
     "name": "stdout",
     "output_type": "stream",
     "text": [
      "[[ 1  1  1]\n",
      " [ 1  2  4]\n",
      " [ 1  3  9]\n",
      " [ 1  4 16]\n",
      " [ 1  5 25]\n",
      " [ 1  7 49]]\n",
      "\n",
      "\n",
      "[[ 1  1  1]\n",
      " [ 4  2  1]\n",
      " [ 9  3  1]\n",
      " [16  4  1]\n",
      " [25  5  1]\n",
      " [49  7  1]]\n"
     ]
    }
   ],
   "source": [
    "def matrix_powers(vector, n, increasing):\n",
    "    pass\n",
    "    if increasing==True:\n",
    "        return np.array([i**j for i in vector for j in range(n)]).reshape(len(vector), n)\n",
    "    else:\n",
    "        return np.array([i**(n-1-j) for i in vector for j in range(n)]).reshape(vector.size, n)\n",
    "        \n",
    "    \n",
    "\n",
    "\n",
    "l=np.array([1,2,3,4,5,7])\n",
    "a=matrix_powers(l, 3, True)\n",
    "print(a)\n",
    "print()\n",
    "print()\n",
    "b=matrix_powers(l, 3, False)\n",
    "print(b)"
   ]
  },
  {
   "cell_type": "code",
   "execution_count": 9,
   "metadata": {},
   "outputs": [
    {
     "data": {
      "text/plain": [
       "'\\n2: \\nGiven a sequence of n values x1, x2, ..., xn and a window size k>0, the k-th moving average of the given sequence\\nis defined as follows: \\nThe moving average sequence has n-k+1 elements as shown below. \\nThe moving averages with k=4 of a ten-value sequence (n=10) is shown below \\ni 1 2 3 4 5 6 7 8 9 10 ===== == == == == == == == == == == Input 10 20 30 40 50 60 70 80 90 100 \\ny1 25 = (10+20+30+40)/4 \\ny2 35 = (20+30+40+50)/4\\ny3 45 = (30+40+50+60)/4 \\ny4 55 = (40+50+60+70)/4\\ny5 65 = (50+60+70+80)/4 \\ny6 75 = (60+70+80+90)/4 \\ny7 85 = (70+80+90+100)/4 \\nThus, the moving average sequence has n-k+1=10-4+1=7 values. \\nQuestion: Write a function to find moving average in an array over a window: \\nTest it over [3, 5, 7, 2, 8, 10, 11, 65, 72, 81, 99, 100, 150] and window of 3. \\n\\n'"
      ]
     },
     "execution_count": 9,
     "metadata": {},
     "output_type": "execute_result"
    }
   ],
   "source": [
    "\"\"\"\n",
    "2: \n",
    "Given a sequence of n values x1, x2, ..., xn and a window size k>0, the k-th moving average of the given sequence\n",
    "is defined as follows: \n",
    "The moving average sequence has n-k+1 elements as shown below. \n",
    "The moving averages with k=4 of a ten-value sequence (n=10) is shown below \n",
    "i 1 2 3 4 5 6 7 8 9 10 ===== == == == == == == == == == == Input 10 20 30 40 50 60 70 80 90 100 \n",
    "y1 25 = (10+20+30+40)/4 \n",
    "y2 35 = (20+30+40+50)/4\n",
    "y3 45 = (30+40+50+60)/4 \n",
    "y4 55 = (40+50+60+70)/4\n",
    "y5 65 = (50+60+70+80)/4 \n",
    "y6 75 = (60+70+80+90)/4 \n",
    "y7 85 = (70+80+90+100)/4 \n",
    "Thus, the moving average sequence has n-k+1=10-4+1=7 values. \n",
    "Question: Write a function to find moving average in an array over a window: \n",
    "Test it over [3, 5, 7, 2, 8, 10, 11, 65, 72, 81, 99, 100, 150] and window of 3. \n",
    "\n",
    "\"\"\""
   ]
  },
  {
   "cell_type": "code",
   "execution_count": 10,
   "metadata": {},
   "outputs": [
    {
     "name": "stdout",
     "output_type": "stream",
     "text": [
      "+3+5+7/3= 5.0\n",
      "\n",
      "+5+7+2/3= 4.666666666666667\n",
      "\n",
      "+7+2+8/3= 5.666666666666667\n",
      "\n",
      "+2+8+10/3= 6.666666666666667\n",
      "\n",
      "+8+10+11/3= 9.666666666666666\n",
      "\n",
      "+10+11+65/3= 28.666666666666668\n",
      "\n",
      "+11+65+72/3= 49.333333333333336\n",
      "\n",
      "+65+72+81/3= 72.66666666666667\n",
      "\n",
      "+72+81+99/3= 84.0\n",
      "\n",
      "+81+99+100/3= 93.33333333333333\n",
      "\n",
      "+99+100+150/3= 116.33333333333333\n",
      "\n"
     ]
    }
   ],
   "source": [
    "#\n",
    "import math\n",
    "arr=np.array([3, 5, 7, 2, 8, 10, 11, 65, 72, 81, 99, 100, 150])\n",
    "k=3\n",
    "n=len(arr)\n",
    "#n-k+1=> 13-3+1=11\n",
    "total_gen=n-k+1\n",
    "total_gen\n",
    "for i in range(total_gen):\n",
    "    #print(i)\n",
    "    sum=0\n",
    "    s=''\n",
    "    for j in range(i,i+k):\n",
    "        sum=sum+arr[j]\n",
    "        s=s+'+'+str(arr[j])\n",
    "    print(s+'/3=',sum/3)\n",
    "    print()\n",
    "    "
   ]
  },
  {
   "cell_type": "code",
   "execution_count": null,
   "metadata": {},
   "outputs": [],
   "source": []
  }
 ],
 "metadata": {
  "kernelspec": {
   "display_name": "Python 3",
   "language": "python",
   "name": "python3"
  },
  "language_info": {
   "codemirror_mode": {
    "name": "ipython",
    "version": 3
   },
   "file_extension": ".py",
   "mimetype": "text/x-python",
   "name": "python",
   "nbconvert_exporter": "python",
   "pygments_lexer": "ipython3",
   "version": "3.7.6"
  }
 },
 "nbformat": 4,
 "nbformat_minor": 4
}
