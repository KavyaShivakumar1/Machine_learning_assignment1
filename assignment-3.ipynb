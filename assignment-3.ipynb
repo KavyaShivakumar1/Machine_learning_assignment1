{
 "cells": [
  {
   "cell_type": "code",
   "execution_count": 37,
   "metadata": {},
   "outputs": [
    {
     "data": {
      "text/plain": [
       "15"
      ]
     },
     "execution_count": 37,
     "metadata": {},
     "output_type": "execute_result"
    }
   ],
   "source": [
    "\"\"\"1.1 Write a Python Program to implement your own myreduce() function which works exactly like Python's \n",
    "built-in function reduce() \n",
    "\"\"\"\n",
    "def sumFunc(x,y):\n",
    "    return x+y\n",
    "\n",
    "def myreduce(funct,lst):\n",
    "    #print(lst)\n",
    "    firstVal=lst[0]\n",
    "    for i in range(1,len(lst)):\n",
    "        firstVal=funct(firstVal,lst[i])\n",
    "    return firstVal\n",
    "    \n",
    "    \n",
    "    \n",
    "    \n",
    "seq=[1,2,3,4,5]    \n",
    "myreduce(sumFunc,seq)"
   ]
  },
  {
   "cell_type": "code",
   "execution_count": 38,
   "metadata": {},
   "outputs": [
    {
     "data": {
      "text/plain": [
       "[2, 4, 6, 8]"
      ]
     },
     "execution_count": 38,
     "metadata": {},
     "output_type": "execute_result"
    }
   ],
   "source": [
    "\"\"\"1.2 Write a Python program to implement your own myfilter() function which works exactly like Python's\n",
    "built-in function filter() \n",
    "\"\"\"\n",
    "def findEven(x):\n",
    "    if x%2==0:\n",
    "        return x\n",
    "   \n",
    "    \n",
    "def myfilter(funct,lst):\n",
    "    evenVal=[]\n",
    "    for i in lst[:]:\n",
    "        val=funct(i)\n",
    "        if val != None :\n",
    "            evenVal.append(val)\n",
    "    return evenVal\n",
    "    \n",
    "seq=[1,2,3,4,6,9,8]    \n",
    "myfilter(findEven,seq)"
   ]
  },
  {
   "cell_type": "code",
   "execution_count": 39,
   "metadata": {},
   "outputs": [
    {
     "data": {
      "text/plain": [
       "['A', 'C', 'A', 'D', 'G', 'I', 'L', 'D']"
      ]
     },
     "execution_count": 39,
     "metadata": {},
     "output_type": "execute_result"
    }
   ],
   "source": [
    "\"\"\"2. Implement List comprehensions to produce the following lists. \n",
    "Write List comprehensions to produce the following Lists \"\"\"\n",
    "\n",
    "\"\"\"['A', 'C', 'A', 'D', 'G', 'I', ’L’, ‘ D’] \n",
    "\"\"\"\n",
    "\n",
    "val = \"ACADGILD\"\n",
    "[i for i in val]"
   ]
  },
  {
   "cell_type": "code",
   "execution_count": 40,
   "metadata": {},
   "outputs": [
    {
     "data": {
      "text/plain": [
       "['x', 'xx', 'xxx', 'xxxx', 'y', 'yy', 'yyy', 'yyyy', 'z', 'zz', 'zzz', 'zzzz']"
      ]
     },
     "execution_count": 40,
     "metadata": {},
     "output_type": "execute_result"
    }
   ],
   "source": [
    "\"\"\"['x', 'xx', 'xxx', 'xxxx', 'y', 'yy', 'yyy', 'yyyy', 'z', 'zz', 'zzz', 'zzzz'] \n",
    "['x', 'y', 'z', 'xx', 'yy', 'zz', 'xxx', 'yyy', 'zzz', 'xxxx', 'yyyy', 'zzzz'] \"\"\"\n",
    "\n",
    "\"\"\"Traditional way of performing same operation\n",
    "for i in l:\n",
    "    for num in range(1,5):\n",
    "        print(i*num)\"\"\"\n",
    "\n",
    "l=['x', 'y', 'z']\n",
    "[num*i for i in l for num in range(1,5)]\n"
   ]
  },
  {
   "cell_type": "code",
   "execution_count": 41,
   "metadata": {},
   "outputs": [
    {
     "data": {
      "text/plain": [
       "[[2], [3], [4], [3], [4], [5], [4], [5], [6]]"
      ]
     },
     "execution_count": 41,
     "metadata": {},
     "output_type": "execute_result"
    }
   ],
   "source": [
    "\"\"\"\n",
    "[[2], [3], [4], [3], [4], [5], [4], [5], [6]] \n",
    "\"\"\"\n",
    "l=[1,2,3]\n",
    "\n",
    "[[i+num] for i in l for num in l]\n",
    "    \n",
    "    \n",
    "\n"
   ]
  },
  {
   "cell_type": "code",
   "execution_count": 42,
   "metadata": {},
   "outputs": [
    {
     "data": {
      "text/plain": [
       "[[2, 3, 4, 5], [3, 4, 5, 6], [4, 5, 6, 7], [5, 6, 7, 8]]"
      ]
     },
     "execution_count": 42,
     "metadata": {},
     "output_type": "execute_result"
    }
   ],
   "source": [
    "\"\"\"[[2, 3, 4, 5], [3, 4, 5, 6], [4, 5, 6, 7], [5, 6, 7, 8]] \n",
    "\"\"\"\n",
    "l=[1,2,3,4]\n",
    "[[i+num for i in l]for num in l] \n",
    "\n",
    "    \n",
    "    \n",
    "        "
   ]
  },
  {
   "cell_type": "code",
   "execution_count": 43,
   "metadata": {},
   "outputs": [
    {
     "data": {
      "text/plain": [
       "[(1, 1), (2, 1), (3, 1), (1, 2), (2, 2), (3, 2), (1, 3), (2, 3), (3, 3)]"
      ]
     },
     "execution_count": 43,
     "metadata": {},
     "output_type": "execute_result"
    }
   ],
   "source": [
    "\"\"\"[(1, 1), (2, 1), (3, 1), (1, 2), (2, 2), (3, 2), (1, 3), (2, 3), (3, 3)] \n",
    "\"\"\"\n",
    "l=[1,2,3]\n",
    "\"\"\"Traditional way of writing\n",
    "for i in l:\n",
    "    for num in l:\n",
    "        print(num, i)\"\"\"\n",
    "        \n",
    "\n",
    "[(num,i)for i in l for num in l]"
   ]
  },
  {
   "cell_type": "code",
   "execution_count": null,
   "metadata": {},
   "outputs": [],
   "source": []
  }
 ],
 "metadata": {
  "kernelspec": {
   "display_name": "Python 3",
   "language": "python",
   "name": "python3"
  },
  "language_info": {
   "codemirror_mode": {
    "name": "ipython",
    "version": 3
   },
   "file_extension": ".py",
   "mimetype": "text/x-python",
   "name": "python",
   "nbconvert_exporter": "python",
   "pygments_lexer": "ipython3",
   "version": "3.7.6"
  }
 },
 "nbformat": 4,
 "nbformat_minor": 4
}
