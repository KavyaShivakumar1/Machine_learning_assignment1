{
 "cells": [
  {
   "cell_type": "code",
   "execution_count": 29,
   "metadata": {},
   "outputs": [
    {
     "name": "stdout",
     "output_type": "stream",
     "text": [
      "*\n",
      "**\n",
      "***\n",
      "****\n",
      "*****\n",
      "****\n",
      "***\n",
      "**\n",
      "*\n",
      "\n"
     ]
    }
   ],
   "source": [
    "\"\"\"1. Write a program which accepts a sequence of comma-separated numbers from console and generate a list. \n",
    "\"\"\"\n",
    "a=5\n",
    "temp=a-1\n",
    "for i in range(1,a+1):\n",
    "    for j in range(i):\n",
    "        print(\"*\", end='')\n",
    "        if j==temp:\n",
    "            print()\n",
    "            for val in range(j,0,-1):\n",
    "                for val1 in range(val):\n",
    "                    print(\"*\", end='')\n",
    "                print()\n",
    "               \n",
    "               \n",
    "    print()\n"
   ]
  },
  {
   "cell_type": "code",
   "execution_count": 2,
   "metadata": {},
   "outputs": [
    {
     "name": "stdout",
     "output_type": "stream",
     "text": [
      "Enter the string to reverseineuron\n",
      "reversed output: norueni\n"
     ]
    }
   ],
   "source": [
    "\"\"\"2. Write a Python program to reverse a word after accepting the input from the user. \n",
    "Sample Output: \n",
    "Input word: ineuron \n",
    "\"\"\"\n",
    "val=input(\"Enter the string to reverse\")\n",
    "val=val[::-1]\n",
    "print(\"reversed output:\",val)"
   ]
  },
  {
   "cell_type": "code",
   "execution_count": null,
   "metadata": {},
   "outputs": [],
   "source": []
  }
 ],
 "metadata": {
  "kernelspec": {
   "display_name": "Python 3",
   "language": "python",
   "name": "python3"
  },
  "language_info": {
   "codemirror_mode": {
    "name": "ipython",
    "version": 3
   },
   "file_extension": ".py",
   "mimetype": "text/x-python",
   "name": "python",
   "nbconvert_exporter": "python",
   "pygments_lexer": "ipython3",
   "version": "3.7.6"
  }
 },
 "nbformat": 4,
 "nbformat_minor": 4
}
