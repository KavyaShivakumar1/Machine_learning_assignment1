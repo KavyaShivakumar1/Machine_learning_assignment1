{
 "cells": [
  {
   "cell_type": "code",
   "execution_count": 33,
   "metadata": {},
   "outputs": [
    {
     "name": "stdout",
     "output_type": "stream",
     "text": [
      "Enter first side: 2\n",
      "Enter second side: 3\n",
      "Enter third side: 4\n",
      "a 2.0\n",
      "Area of Triangle is 2.9047375096555625\n"
     ]
    }
   ],
   "source": [
    "\"\"\"1.1 Write a Python Program(with class concepts) to find the area of the triangle using the below formula. \n",
    "area = (s*(s-a)*(s-b)*(s-c)) ** 0.5 \n",
    "Function to take the length of the sides of triangle from user should be defined in the parent \n",
    "class and function to calculate the area should be defined in subclass. \n",
    "\"\"\"\n",
    "class triangleParameters( object):\n",
    "    def __init__(self, a,b,c):\n",
    "        self.a=a\n",
    "        self.b=b\n",
    "        self.c=c\n",
    "        \n",
    "    \n",
    "class triangleArea(triangleParameters):\n",
    "    def __init__(self):\n",
    "        triangleParameters.__init__(self, a,b,c)\n",
    "        print(\"a\",a)\n",
    "    \n",
    "    def find_length_Triangle(self):\n",
    "        s = (a + b + c) / 2  \n",
    "        area = (s*(s-a)*(s-b)*(s-c)) ** 0.5\n",
    "        return area\n",
    "    \n",
    "        \n",
    "a = float(input('Enter first side: '))  \n",
    "b = float(input('Enter second side: '))  \n",
    "c = float(input('Enter third side: ')) \n",
    "params=triangleParameters(a, b, c)\n",
    "area=triangleArea()\n",
    "print(\"Area of Triangle is\",area.find_length_Triangle())"
   ]
  },
  {
   "cell_type": "code",
   "execution_count": 34,
   "metadata": {},
   "outputs": [
    {
     "name": "stdout",
     "output_type": "stream",
     "text": [
      "['function', 'filter', 'integer']\n"
     ]
    }
   ],
   "source": [
    "\"\"\"1.2 Write a function filter_long_words() that takes a list of words and an integer n \n",
    "and returns the list of words that are longer than n. \n",
    "\"\"\"\n",
    "def filter_long_words(words,n):\n",
    "    output=[]\n",
    "    for x in words:\n",
    "        if len(x)>n:\n",
    "            output.append(x)\n",
    "    return output\n",
    "   \n",
    "    \n",
    "    \n",
    "words=[\"Write\", \"function\", \"filter\", \"that\", \"takes\", \"list\", \"integer\"]\n",
    "final_list=filter_long_words(words, 5)\n",
    "print(final_list)"
   ]
  },
  {
   "cell_type": "code",
   "execution_count": 35,
   "metadata": {},
   "outputs": [
    {
     "data": {
      "text/plain": [
       "[2, 3, 4]"
      ]
     },
     "execution_count": 35,
     "metadata": {},
     "output_type": "execute_result"
    }
   ],
   "source": [
    "\"\"\"2.1 Write a Python program using function concept that maps list of words into a list of \n",
    "integers representing the lengths of the corresponding words. \n",
    "Hint: If a list [ ab,cde,erty] is passed on to the python function output should come as [2,3,4] \n",
    "\"\"\"\n",
    "\n",
    "l= [ 'ab','cde','erty']\n",
    "list(map(lambda x:len(x), l))"
   ]
  },
  {
   "cell_type": "code",
   "execution_count": 36,
   "metadata": {},
   "outputs": [
    {
     "name": "stdout",
     "output_type": "stream",
     "text": [
      "True\n",
      "True\n",
      "False\n",
      "False\n",
      "True\n"
     ]
    }
   ],
   "source": [
    "\"\"\"2.2 Write a Python function which takes a character (i.e. a string of length 1) and \n",
    "returns True if it is a vowel, False otherwise.\"\"\"\n",
    "\n",
    "\n",
    "def vowel(l):\n",
    "    l=l.lower()\n",
    "    if l=='a' or l=='e'  or l=='i'  or l=='o' or l=='u':\n",
    "        return True\n",
    "    else:\n",
    "        return False\n",
    "    \n",
    "    \n",
    "print(vowel('a'))\n",
    "print(vowel('E'))\n",
    "print(vowel('f'))\n",
    "print(vowel('M'))\n",
    "print(vowel('U'))\n"
   ]
  },
  {
   "cell_type": "code",
   "execution_count": null,
   "metadata": {},
   "outputs": [],
   "source": []
  },
  {
   "cell_type": "code",
   "execution_count": null,
   "metadata": {},
   "outputs": [],
   "source": []
  }
 ],
 "metadata": {
  "kernelspec": {
   "display_name": "Python 3",
   "language": "python",
   "name": "python3"
  },
  "language_info": {
   "codemirror_mode": {
    "name": "ipython",
    "version": 3
   },
   "file_extension": ".py",
   "mimetype": "text/x-python",
   "name": "python",
   "nbconvert_exporter": "python",
   "pygments_lexer": "ipython3",
   "version": "3.7.6"
  }
 },
 "nbformat": 4,
 "nbformat_minor": 4
}
